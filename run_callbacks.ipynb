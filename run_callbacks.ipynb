{
 "cells": [
  {
   "cell_type": "code",
   "execution_count": 1,
   "metadata": {},
   "outputs": [
    {
     "name": "stderr",
     "output_type": "stream",
     "text": [
      "Using TensorFlow backend.\n"
     ]
    }
   ],
   "source": [
    "'''Trains a simple convnet on the MNIST dataset.\n",
    "Gets to 99.25% test accuracy after 12 epochs\n",
    "(there is still a lot of margin for parameter tuning).\n",
    "16 seconds per epoch on a GRID K520 GPU.\n",
    "'''\n",
    "\n",
    "import numpy as np\n",
    "np.random.seed(1337)  # for reproducibility\n",
    "\n",
    "from keras.datasets import mnist\n",
    "from keras.models import Sequential\n",
    "from keras.layers import Dense, Dropout, Activation, Flatten\n",
    "from keras.layers import Conv2D, MaxPooling2D\n",
    "from keras.layers import LeakyReLU, PReLU, ELU, ThresholdedReLU\n",
    "from keras.utils import np_utils\n",
    "import keras.backend as K\n",
    "\n",
    "import history_tracker, lr_finder_script, sgdr\n",
    "import pdb\n",
    "\n",
    "batch_size = 128\n",
    "nb_classes = 10\n",
    "nb_epoch = 10\n",
    "\n",
    "# input image dimensions\n",
    "img_rows, img_cols = 28, 28\n",
    "# number of convolutional filters to use\n",
    "nb_filters = 1\n",
    "# size of pooling area for max pooling\n",
    "nb_pool = 2\n",
    "# convolution kernel size\n",
    "nb_conv = 3"
   ]
  },
  {
   "cell_type": "code",
   "execution_count": 2,
   "metadata": {},
   "outputs": [
    {
     "name": "stdout",
     "output_type": "stream",
     "text": [
      "X_train shape: (60000, 1, 28, 28)\n",
      "60000 train samples\n",
      "10000 test samples\n"
     ]
    }
   ],
   "source": [
    "# the data, shuffled and split between train and test sets\n",
    "(X_train, y_train), (X_test, y_test) = mnist.load_data()\n",
    "\n",
    "X_train = X_train.reshape(X_train.shape[0], 1, img_rows, img_cols)\n",
    "X_test = X_test.reshape(X_test.shape[0], 1, img_rows, img_cols)\n",
    "X_train = X_train.astype('float32')\n",
    "X_test = X_test.astype('float32')\n",
    "X_train /= 255\n",
    "X_test /= 255\n",
    "print('X_train shape:', X_train.shape)\n",
    "print(X_train.shape[0], 'train samples')\n",
    "print(X_test.shape[0], 'test samples')\n",
    "\n",
    "# convert class vectors to binary class matrices\n",
    "Y_train = np_utils.to_categorical(y_train, nb_classes)\n",
    "Y_test = np_utils.to_categorical(y_test, nb_classes)"
   ]
  },
  {
   "cell_type": "code",
   "execution_count": null,
   "metadata": {},
   "outputs": [],
   "source": [
    "model = Sequential()\n",
    "\n",
    "model.add(Conv2D(nb_filters, (nb_conv, nb_conv),\n",
    "                        padding='same',\n",
    "                        data_format='channels_first', input_shape=(1, img_rows, img_cols)))\n",
    "model.add(Activation('softplus'))\n",
    "model.add(Conv2D(nb_filters, (nb_conv, nb_conv),\n",
    "                        padding='same',\n",
    "                        data_format='channels_first', input_shape=(1, img_rows, img_cols)))\n",
    "model.add(Activation('relu'))\n",
    "model.add(MaxPooling2D(pool_size=(int(img_rows/2), int(img_cols/2)), padding='same'))\n",
    "\n",
    "model.add(Flatten())\n",
    "model.add(Dense(nb_classes))\n",
    "model.add(Activation('softmax'))\n",
    "\n",
    "model.compile(loss='categorical_crossentropy',\n",
    "              optimizer='adadelta',\n",
    "              metrics=['accuracy'])\n",
    "\n",
    "# prepare callback\n",
    "histories = history_tracker.Histories()\n",
    "#lr_finder = lr_finder_script.LRFinder(min_lr=5e-3, max_lr=0.5,steps_per_epoch = np.ceil(nb_epoch/batch_size), epochs=nb_epoch) # for old version\n",
    "\n",
    "lr_finder = LRFinder(model)\n",
    "lr_finder.find(x_train, y_train, 0.0001, 1, 512, 5)"
   ]
  },
  {
   "cell_type": "code",
   "execution_count": 3,
   "metadata": {},
   "outputs": [
    {
     "name": "stdout",
     "output_type": "stream",
     "text": [
      "Train on 60000 samples, validate on 10000 samples\n",
      "Epoch 1/10\n",
      "60000/60000 [==============================] - 3s 54us/step - loss: 1.6012 - acc: 0.4184 - val_loss: 1.0810 - val_acc: 0.6374\n",
      "Epoch 2/10\n",
      "60000/60000 [==============================] - 2s 42us/step - loss: 0.9411 - acc: 0.6886 - val_loss: 0.8776 - val_acc: 0.7049\n",
      "Epoch 3/10\n",
      "60000/60000 [==============================] - 2s 40us/step - loss: 0.9437 - acc: 0.6887 - val_loss: 0.8881 - val_acc: 0.7089\n",
      "Epoch 4/10\n",
      "60000/60000 [==============================] - 2s 40us/step - loss: 0.9858 - acc: 0.6775 - val_loss: 0.8994 - val_acc: 0.7054\n",
      "Epoch 5/10\n",
      "60000/60000 [==============================] - 2s 40us/step - loss: 1.0158 - acc: 0.6692 - val_loss: 0.9161 - val_acc: 0.6990\n",
      "Epoch 6/10\n",
      "60000/60000 [==============================] - 2s 40us/step - loss: 1.0611 - acc: 0.6569 - val_loss: 0.8839 - val_acc: 0.6986\n",
      "Epoch 7/10\n",
      "60000/60000 [==============================] - 2s 40us/step - loss: 1.1336 - acc: 0.6420 - val_loss: 0.9586 - val_acc: 0.6810\n",
      "Epoch 8/10\n",
      "60000/60000 [==============================] - 2s 40us/step - loss: 1.2384 - acc: 0.6070 - val_loss: 2.3069 - val_acc: 0.1028\n",
      "Epoch 9/10\n",
      "60000/60000 [==============================] - 2s 39us/step - loss: 2.3084 - acc: 0.1211 - val_loss: 2.3099 - val_acc: 0.1135\n",
      "Epoch 10/10\n",
      "60000/60000 [==============================] - 2s 40us/step - loss: 2.3207 - acc: 0.1031 - val_loss: 2.3213 - val_acc: 0.1009\n",
      "[1.6012416599909465, 0.9411018094380696, 0.9437261753082276, 0.9857866775512696, 1.0158157029151917, 1.0610949742952982, 1.1335902037302652, 1.2383623318990071, 2.3084104225158693, 2.320660479354858]\n",
      "[0.942596923469884, 0.9550827244643324, 0.9545800314682691, 0.9538692304436754, 0.9514090172225116, 0.9538394597702802, 0.945796346123448, 0.5, 0.5, 0.5]\n",
      "Test score: 2.3212698398590086\n",
      "Test accuracy: 0.1009\n"
     ]
    }
   ],
   "source": [
    "# fit\n",
    "model.fit(X_train, Y_train, batch_size=batch_size, epochs=nb_epoch,\n",
    "          verbose=1, validation_data=(X_test, Y_test), callbacks=[histories,lr_finder])\n",
    "\n",
    "print(histories.losses)\n",
    "print(histories.aucs)\n",
    "\n",
    "score = model.evaluate(X_test, Y_test, verbose=0)\n",
    "print('Test score:', score[0])\n",
    "print('Test accuracy:', score[1])"
   ]
  },
  {
   "cell_type": "code",
   "execution_count": 4,
   "metadata": {},
   "outputs": [
    {
     "data": {
      "image/png": "[encoded data removed]",
      "text/plain": [
       "<Figure size 432x288 with 1 Axes>"
      ]
     },
     "metadata": {},
     "output_type": "display_data"
    }
   ],
   "source": [
    "lr_finder.plot_lr();"
   ]
  },
  {
   "cell_type": "code",
   "execution_count": 5,
   "metadata": {},
   "outputs": [
    {
     "data": {
      "image/png": "[encoded data removed]",
      "text/plain": [
       "<Figure size 432x288 with 1 Axes>"
      ]
     },
     "metadata": {},
     "output_type": "display_data"
    }
   ],
   "source": [
    "lr_finder.plot_loss()"
   ]
  },
  {
   "cell_type": "code",
   "execution_count": 7,
   "metadata": {},
   "outputs": [
    {
     "data": {
      "text/plain": [
       "100.0"
      ]
     },
     "execution_count": 7,
     "metadata": {},
     "output_type": "execute_result"
    }
   ],
   "source": [
    "10e1"
   ]
  },
  {
   "cell_type": "code",
   "execution_count": null,
   "metadata": {},
   "outputs": [],
   "source": []
  }
 ],
 "metadata": {
  "kernelspec": {
   "display_name": "Python 3",
   "language": "python",
   "name": "python3"
  },
  "language_info": {
   "codemirror_mode": {
    "name": "ipython",
    "version": 3
   },
   "file_extension": ".py",
   "mimetype": "text/x-python",
   "name": "python",
   "nbconvert_exporter": "python",
   "pygments_lexer": "ipython3",
   "version": "3.5.2"
  }
 },
 "nbformat": 4,
 "nbformat_minor": 2
}
