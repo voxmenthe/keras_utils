{
 "cells": [
  {
   "cell_type": "code",
   "execution_count": 1,
   "metadata": {},
   "outputs": [
    {
     "name": "stderr",
     "output_type": "stream",
     "text": [
      "Using TensorFlow backend.\n"
     ]
    }
   ],
   "source": [
    "'''Trains a simple convnet on the MNIST dataset.\n",
    "Gets to 99.25% test accuracy after 12 epochs\n",
    "(there is still a lot of margin for parameter tuning).\n",
    "16 seconds per epoch on a GRID K520 GPU.\n",
    "'''\n",
    "\n",
    "import numpy as np\n",
    "np.random.seed(1337)  # for reproducibility\n",
    "\n",
    "from keras.datasets import mnist\n",
    "from keras.models import Sequential\n",
    "from keras.layers import Dense, Dropout, Activation, Flatten\n",
    "from keras.layers import Conv2D, MaxPooling2D\n",
    "from keras.layers import LeakyReLU, PReLU, ELU, ThresholdedReLU\n",
    "from keras.utils import np_utils\n",
    "import keras.backend as K\n",
    "\n",
    "import history_tracker, lr_finder_script, sgdr\n",
    "import pdb\n",
    "\n",
    "batch_size = 128\n",
    "nb_classes = 10\n",
    "nb_epoch = 10\n",
    "\n",
    "# input image dimensions\n",
    "img_rows, img_cols = 28, 28\n",
    "# number of convolutional filters to use\n",
    "nb_filters = 1\n",
    "# size of pooling area for max pooling\n",
    "nb_pool = 2\n",
    "# convolution kernel size\n",
    "nb_conv = 3"
   ]
  },
  {
   "cell_type": "code",
   "execution_count": 2,
   "metadata": {},
   "outputs": [
    {
     "name": "stdout",
     "output_type": "stream",
     "text": [
      "X_train shape: (60000, 1, 28, 28)\n",
      "60000 train samples\n",
      "10000 test samples\n"
     ]
    }
   ],
   "source": [
    "# the data, shuffled and split between train and test sets\n",
    "(X_train, y_train), (X_test, y_test) = mnist.load_data()\n",
    "\n",
    "X_train = X_train.reshape(X_train.shape[0], 1, img_rows, img_cols)\n",
    "X_test = X_test.reshape(X_test.shape[0], 1, img_rows, img_cols)\n",
    "X_train = X_train.astype('float32')\n",
    "X_test = X_test.astype('float32')\n",
    "X_train /= 255\n",
    "X_test /= 255\n",
    "print('X_train shape:', X_train.shape)\n",
    "print(X_train.shape[0], 'train samples')\n",
    "print(X_test.shape[0], 'test samples')\n",
    "\n",
    "# convert class vectors to binary class matrices\n",
    "Y_train = np_utils.to_categorical(y_train, nb_classes)\n",
    "Y_test = np_utils.to_categorical(y_test, nb_classes)"
   ]
  },
  {
   "cell_type": "code",
   "execution_count": 3,
   "metadata": {},
   "outputs": [
    {
     "name": "stdout",
     "output_type": "stream",
     "text": [
      "Train on 60000 samples, validate on 10000 samples\n",
      "Epoch 1/20\n",
      "60000/60000 [==============================] - 3s 52us/step - loss: 2.3022 - acc: 0.1071 - val_loss: 2.3007 - val_acc: 0.1135\n",
      "Epoch 2/20\n",
      "60000/60000 [==============================] - 2s 41us/step - loss: 2.2946 - acc: 0.1283 - val_loss: 2.2656 - val_acc: 0.1614\n",
      "Epoch 3/20\n",
      "60000/60000 [==============================] - 2s 41us/step - loss: 1.2998 - acc: 0.5515 - val_loss: 0.9924 - val_acc: 0.6649\n",
      "Epoch 4/20\n",
      "60000/60000 [==============================] - 2s 41us/step - loss: 0.9213 - acc: 0.6930 - val_loss: 0.8556 - val_acc: 0.7083\n",
      "Epoch 5/20\n",
      "60000/60000 [==============================] - 2s 40us/step - loss: 0.8400 - acc: 0.7210 - val_loss: 0.8035 - val_acc: 0.7310\n",
      "Epoch 6/20\n",
      "60000/60000 [==============================] - 2s 41us/step - loss: 0.8085 - acc: 0.7319 - val_loss: 0.7831 - val_acc: 0.7421\n",
      "Epoch 7/20\n",
      "60000/60000 [==============================] - 2s 41us/step - loss: 0.7913 - acc: 0.7390 - val_loss: 0.7687 - val_acc: 0.7482\n",
      "Epoch 8/20\n",
      "60000/60000 [==============================] - 2s 40us/step - loss: 0.7827 - acc: 0.7415 - val_loss: 0.7559 - val_acc: 0.7487\n",
      "Epoch 9/20\n",
      "60000/60000 [==============================] - 2s 40us/step - loss: 0.7777 - acc: 0.7438 - val_loss: 0.7684 - val_acc: 0.7479\n",
      "Epoch 10/20\n",
      "60000/60000 [==============================] - 2s 40us/step - loss: 0.7766 - acc: 0.7441 - val_loss: 0.7797 - val_acc: 0.7404\n",
      "Epoch 11/20\n",
      "60000/60000 [==============================] - 2s 39us/step - loss: 0.7743 - acc: 0.7441 - val_loss: 0.7785 - val_acc: 0.7443\n",
      "Epoch 12/20\n",
      "60000/60000 [==============================] - 2s 41us/step - loss: 0.7746 - acc: 0.7463 - val_loss: 0.7586 - val_acc: 0.7505\n",
      "Epoch 13/20\n",
      "60000/60000 [==============================] - 2s 39us/step - loss: 0.7736 - acc: 0.7447 - val_loss: 0.7614 - val_acc: 0.7502\n",
      "Epoch 14/20\n",
      "60000/60000 [==============================] - 2s 40us/step - loss: 0.7779 - acc: 0.7449 - val_loss: 0.7591 - val_acc: 0.7510\n",
      "Epoch 15/20\n",
      "60000/60000 [==============================] - 2s 41us/step - loss: 0.7748 - acc: 0.7449 - val_loss: 0.7763 - val_acc: 0.7447\n",
      "Epoch 16/20\n",
      "60000/60000 [==============================] - 2s 41us/step - loss: 0.7792 - acc: 0.7447 - val_loss: 0.7682 - val_acc: 0.7445\n",
      "Epoch 17/20\n",
      "60000/60000 [==============================] - 2s 39us/step - loss: 0.7813 - acc: 0.7450 - val_loss: 0.7791 - val_acc: 0.7393\n",
      "Epoch 18/20\n",
      "60000/60000 [==============================] - 2s 40us/step - loss: 0.7801 - acc: 0.7444 - val_loss: 0.7580 - val_acc: 0.7472\n",
      "Epoch 19/20\n",
      "60000/60000 [==============================] - 2s 40us/step - loss: 0.7818 - acc: 0.7431 - val_loss: 0.7847 - val_acc: 0.7362\n",
      "Epoch 20/20\n",
      "60000/60000 [==============================] - 2s 40us/step - loss: 0.7845 - acc: 0.7430 - val_loss: 0.8028 - val_acc: 0.7382\n",
      "[2.302228563563029, 2.294627226893107, 1.2998155027707419, 0.9213356909751892, 0.8400400693575542, 0.808499765141805, 0.7913170373280843, 0.7827278663635254, 0.7777057312965393, 0.776627314345042, 0.7742705496470134, 0.7746156689008077, 0.7735811178525289, 0.7778625904083252, 0.774769583161672, 0.7791861567179362, 0.7812714053153992, 0.7800605337460835, 0.7817802268981934, 0.7844965989112854]\n",
      "[0.5164671540593151, 0.5540292173243831, 0.9406861066643121, 0.9548990499257302, 0.9595234478368786, 0.9613611983921689, 0.962543160024337, 0.9638500816353079, 0.9628388744890136, 0.9628034364111491, 0.9632600652208311, 0.9636308207426542, 0.9636595594466737, 0.9638660160740853, 0.9629576546444492, 0.9641506624171772, 0.9642466469335252, 0.9634710971599875, 0.9613171446333911, 0.9605056683299352]\n",
      "Test score: 0.8027827849388123\n",
      "Test accuracy: 0.7382\n"
     ]
    }
   ],
   "source": [
    "model = Sequential()\n",
    "\n",
    "model.add(Conv2D(nb_filters, (nb_conv, nb_conv),\n",
    "                        padding='same',\n",
    "                        data_format='channels_first', input_shape=(1, img_rows, img_cols)))\n",
    "model.add(Activation('softplus'))\n",
    "model.add(Conv2D(nb_filters, (nb_conv, nb_conv),\n",
    "                        padding='same',\n",
    "                        data_format='channels_first', input_shape=(1, img_rows, img_cols)))\n",
    "model.add(Activation('relu'))\n",
    "model.add(MaxPooling2D(pool_size=(int(img_rows/2), int(img_cols/2)), padding='same'))\n",
    "\n",
    "model.add(Flatten())\n",
    "model.add(Dense(nb_classes))\n",
    "model.add(Activation('softmax'))\n",
    "\n",
    "model.compile(loss='categorical_crossentropy',\n",
    "              optimizer='adadelta',\n",
    "              metrics=['accuracy'])\n",
    "\n",
    "# prepare callback\n",
    "histories = history_tracker.Histories()\n",
    "lr_finder = lr_finder_script.LRFinder(min_lr=1e-3, max_lr=1e-1,steps_per_epoch = np.ceil(nb_epoch/batch_size), epochs=6)\n",
    "\n",
    "# fit\n",
    "model.fit(X_train, Y_train, batch_size=batch_size, epochs=nb_epoch,\n",
    "          verbose=1, validation_data=(X_test, Y_test), callbacks=[histories,lr_finder])\n",
    "\n",
    "print(histories.losses)\n",
    "print(histories.aucs)\n",
    "\n",
    "score = model.evaluate(X_test, Y_test, verbose=0)\n",
    "print('Test score:', score[0])\n",
    "print('Test accuracy:', score[1])"
   ]
  },
  {
   "cell_type": "code",
   "execution_count": 4,
   "metadata": {},
   "outputs": [
    {
     "data": {
      "image/png": "[encoded data removed]",
      "text/plain": [
       "<Figure size 432x288 with 1 Axes>"
      ]
     },
     "metadata": {},
     "output_type": "display_data"
    }
   ],
   "source": [
    "lr_finder.plot_lr();"
   ]
  },
  {
   "cell_type": "code",
   "execution_count": 5,
   "metadata": {},
   "outputs": [
    {
     "data": {
      "image/png": "[encoded data removed]",
      "text/plain": [
       "<Figure size 432x288 with 1 Axes>"
      ]
     },
     "metadata": {},
     "output_type": "display_data"
    }
   ],
   "source": [
    "lr_finder.plot_loss()"
   ]
  },
  {
   "cell_type": "code",
   "execution_count": null,
   "metadata": {},
   "outputs": [],
   "source": []
  }
 ],
 "metadata": {
  "kernelspec": {
   "display_name": "Python 3",
   "language": "python",
   "name": "python3"
  },
  "language_info": {
   "codemirror_mode": {
    "name": "ipython",
    "version": 3
   },
   "file_extension": ".py",
   "mimetype": "text/x-python",
   "name": "python",
   "nbconvert_exporter": "python",
   "pygments_lexer": "ipython3",
   "version": "3.5.2"
  }
 },
 "nbformat": 4,
 "nbformat_minor": 2
}
